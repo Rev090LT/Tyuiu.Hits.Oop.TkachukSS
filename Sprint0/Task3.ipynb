{
 "cells": [
  {
   "cell_type": "markdown",
   "metadata": {},
   "source": [
    "<h1 style=\"color:DodgerBlue\">Индивидуальный проект</h1>"
   ]
  },
  {
   "cell_type": "markdown",
   "metadata": {},
   "source": [
    "<h2 style=\"color:DodgerBlue\">Название проекта:</h2>\n",
    "\n",
    "----\n",
    "\n",
    "### Вариант задания \n"
   ]
  },
  {
   "cell_type": "markdown",
   "metadata": {},
   "source": [
    "<h2 style=\"color:DodgerBlue\">Описание проекта:</h2>\n",
    "\n",
    "----\n",
    "<h5 style=\"color:DodgerBlue\">\n",
    "Создать базовый класс Movie в C#, который будет представлять информацию о\n",
    "фильмах. На основе этого класса разработать 2-3 производных класса,\n",
    "демонстрирующих принципы наследования и полиморфизма. В каждом из классов\n",
    "должны быть реализованы новые атрибуты и методы, а также переопределены\n",
    "некоторые методы базового класса для демонстрации полиморфизма.\n",
    "\n",
    "Требования к базовому классу Movie:\n",
    "\n",
    "• Атрибуты: Название (Title), Режиссер (Director), Год выпуска (ReleaseYear).\n",
    "• Методы:\n",
    "o GetInfo(): метод для получения информации о фильме в виде строки.\n",
    "o Watch(): метод для вывода сообщения о просмотре фильма.\n",
    "o Rate(): метод для оценки фильма.\n",
    "\n",
    "Требования к производным классам:\n",
    "1. Документальный фильм (Documentary): Должен содержать дополнительные\n",
    "атрибуты, такие как Тематика (Theme). Метод Watch() должен быть\n",
    "переопределен для добавления информации о тематике при просмотре\n",
    "документального фильма.\n",
    "2. Игровой фильм (FeatureFilm): Должен содержать дополнительные атрибуты,\n",
    "такие как Жанр (Genre). Метод Rate() должен быть переопределен для\n",
    "добавления логики оценки в зависимости от жанра.\n",
    "3. Анимационный фильм (AnimatedMovie) (если требуется третий класс):\n",
    "Должен содержать дополнительные атрибуты, такие как Студия анимации\n",
    "(AnimationStudio). Метод GetInfo() должен быть переопределен для\n",
    "включения информации о студии анимации в описании фильма.\n",
    "</h2>"
   ]
  },
  {
   "cell_type": "markdown",
   "metadata": {},
   "source": [
    "<h2 style=\"color:DodgerBlue\">Реализация:</h2>\n",
    "\n",
    "----"
   ]
  },
  {
   "cell_type": "code",
   "execution_count": 2,
   "metadata": {
    "dotnet_interactive": {
     "language": "csharp"
    },
    "polyglot_notebook": {
     "kernelName": "csharp"
    }
   },
   "outputs": [
    {
     "ename": "Error",
     "evalue": "(49,31): error CS1513: } expected\r\n(49,36): error CS1519: Invalid token ';' in class, record, struct, or interface member declaration\r\n(49,36): error CS1519: Invalid token ';' in class, record, struct, or interface member declaration\r\n(51,12): error CS1520: Method must have a return type\r\n(52,5): error CS1073: Unexpected token ':'\r\n(57,1): error CS7017: Member definition, statement, or end-of-file expected",
     "output_type": "error",
     "traceback": [
      "(49,31): error CS1513: } expected\r\n",
      "(49,36): error CS1519: Invalid token ';' in class, record, struct, or interface member declaration\r\n",
      "(49,36): error CS1519: Invalid token ';' in class, record, struct, or interface member declaration\r\n",
      "(51,12): error CS1520: Method must have a return type\r\n",
      "(52,5): error CS1073: Unexpected token ':'\r\n",
      "(57,1): error CS7017: Member definition, statement, or end-of-file expected"
     ]
    }
   ],
   "source": [
    "using System;\n",
    "\n",
    "public class Movie{ \n",
    "    public string Title {get; set;}\n",
    "    public string Director {get; set;}\n",
    "    public int Releaseyear {get; set;}\n",
    "\n",
    "    public Movie (string title, string director, int releaseYear) {\n",
    "        title = Title;\n",
    "        director = Director;\n",
    "        releaseYear = Releaseyear;\n",
    "    }\n",
    "\n",
    "    public virtual string Getinfo() {\n",
    "        return $\"Title: {Title}, Director: {Director}, Release Year: {Releaseyear}\";\n",
    "    }\n",
    "\n",
    "    public virtual void Watch() {\n",
    "        Console.WriteLine($\"Watching movie: {Title}\");\n",
    "    }    \n",
    "\n",
    "    public virtual void rating(int rate) {\n",
    "        Console.WriteLine($\"Film {Title} rated by {rate}\");\n",
    "    }\n",
    "}\n",
    "\n",
    "public class Documentary : Movie\n",
    "{\n",
    "    public string Theme { get; set; }\n",
    "\n",
    "    public Documentary(string title, string director, int releaseYear, string theme)\n",
    "        : base(title, director, releaseYear)\n",
    "    {\n",
    "        Theme = theme;\n",
    "    }\n",
    "\n",
    "    public override void Watch()\n",
    "    {\n",
    "        Console.WriteLine($\"Watching documentary: {Title}. Theme: {Theme}\");\n",
    "    }\n",
    "\n",
    "    public override string Getinfo()\n",
    "    {\n",
    "        return base.Getinfo() + $\", Theme: {Theme}\";\n",
    "    }\n",
    "}\n",
    "\n",
    "public class FeatureFilm : Movie {\n",
    "\n",
    "    public string Genre {get; set;}\n",
    "\n",
    "    public FeatureFilm (string title, string director, int releaseYear, string genre)\n",
    "        :base(title, director, releaseYear)\n",
    "    {\n",
    "        Genre = genre;\n",
    "    }\n",
    "\n",
    "    public override void Rate(int rate) {\n",
    "        \n",
    "    }\n",
    "\n",
    "}"
   ]
  },
  {
   "cell_type": "code",
   "execution_count": 2,
   "metadata": {
    "dotnet_interactive": {
     "language": "csharp"
    },
    "polyglot_notebook": {
     "kernelName": "csharp"
    }
   },
   "outputs": [],
   "source": []
  }
 ],
 "metadata": {
  "kernelspec": {
   "display_name": ".NET (C#)",
   "language": "C#",
   "name": ".net-csharp"
  },
  "polyglot_notebook": {
   "kernelInfo": {
    "defaultKernelName": "csharp",
    "items": [
     {
      "aliases": [],
      "languageName": "csharp",
      "name": "csharp"
     }
    ]
   }
  }
 },
 "nbformat": 4,
 "nbformat_minor": 2
}
