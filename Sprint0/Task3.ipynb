{
 "cells": [
  {
   "cell_type": "markdown",
   "metadata": {},
   "source": [
    "<h1 style=\"color:DodgerBlue\">Индивидуальный проект</h1>"
   ]
  },
  {
   "cell_type": "markdown",
   "metadata": {},
   "source": [
    "<h2 style=\"color:DodgerBlue\">Название проекта:</h2>\n",
    "\n",
    "----\n",
    "\n",
    "### Вариант задания \n"
   ]
  },
  {
   "cell_type": "markdown",
   "metadata": {},
   "source": [
    "<h2 style=\"color:DodgerBlue\">Описание проекта:</h2>\n",
    "\n",
    "----\n",
    "<h5 style=\"color:DodgerBlue\">\n",
    "Создать базовый класс Movie в C#, который будет представлять информацию о\n",
    "фильмах. На основе этого класса разработать 2-3 производных класса,\n",
    "демонстрирующих принципы наследования и полиморфизма. В каждом из классов\n",
    "должны быть реализованы новые атрибуты и методы, а также переопределены\n",
    "некоторые методы базового класса для демонстрации полиморфизма.\n",
    "\n",
    "Требования к базовому классу Movie:\n",
    "\n",
    "• Атрибуты: Название (Title), Режиссер (Director), Год выпуска (ReleaseYear).\n",
    "• Методы:\n",
    "o GetInfo(): метод для получения информации о фильме в виде строки.\n",
    "o Watch(): метод для вывода сообщения о просмотре фильма.\n",
    "o Rate(): метод для оценки фильма.\n",
    "\n",
    "Требования к производным классам:\n",
    "1. Документальный фильм (Documentary): Должен содержать дополнительные\n",
    "атрибуты, такие как Тематика (Theme). Метод Watch() должен быть\n",
    "переопределен для добавления информации о тематике при просмотре\n",
    "документального фильма.\n",
    "2. Игровой фильм (FeatureFilm): Должен содержать дополнительные атрибуты,\n",
    "такие как Жанр (Genre). Метод Rate() должен быть переопределен для\n",
    "добавления логики оценки в зависимости от жанра.\n",
    "3. Анимационный фильм (AnimatedMovie) (если требуется третий класс):\n",
    "Должен содержать дополнительные атрибуты, такие как Студия анимации\n",
    "(AnimationStudio). Метод GetInfo() должен быть переопределен для\n",
    "включения информации о студии анимации в описании фильма.\n",
    "</h2>"
   ]
  },
  {
   "cell_type": "markdown",
   "metadata": {},
   "source": [
    "<h2 style=\"color:DodgerBlue\">Реализация:</h2>\n",
    "\n",
    "----"
   ]
  },
  {
   "cell_type": "code",
   "execution_count": 2,
   "metadata": {
    "dotnet_interactive": {
     "language": "csharp"
    },
    "polyglot_notebook": {
     "kernelName": "csharp"
    }
   },
   "outputs": [
    {
     "name": "stdout",
     "output_type": "stream",
     "text": [
      "Title: Inception, Director: Christopher Nolan, Release Year: 2010\n",
      "Watching movie: Inception\n",
      "Film Inception rated by 9\n",
      "\n",
      "Title: Oppenheimer, Director: Christopher Nolan, Release Year: 2023, Theme: Biography\n",
      "Watching documentary: Oppenheimer. Theme: Biography\n",
      "Film Oppenheimer rated by 8\n",
      "\n",
      "Title: Bladerunner 2049, Director: Deny Vilnev, Release Year: 2017\n",
      "Watching movie: Bladerunner 2049\n",
      "Wow, you really liked this Cyberpunk film! You rated it 9/10.\n",
      "\n",
      "Title: Toy Story, Director: John Lasseter, Release Year: 1995, Animation Studio: Pixar\n",
      "Watching movie: Toy Story\n",
      "Film Toy Story rated by 10\n"
     ]
    }
   ],
   "source": [
    "using System;\n",
    "\n",
    "public class Movie{ \n",
    "    public string Title {get; set;}\n",
    "    public string Director {get; set;}\n",
    "    public int ReleaseYear {get; set;}\n",
    "\n",
    "    public Movie (string title, string director, int releaseYear) {\n",
    "        Title = title;\n",
    "        Director = director;\n",
    "        ReleaseYear = releaseYear;       \n",
    "    }\n",
    "\n",
    "    public virtual string Getinfo() {\n",
    "        return $\"Title: {Title}, Director: {Director}, Release Year: {ReleaseYear}\";\n",
    "    }\n",
    "\n",
    "    public virtual void Watch() {\n",
    "        Console.WriteLine($\"Watching movie: {Title}\");\n",
    "    }    \n",
    "\n",
    "    public virtual void Rate(int rate) {\n",
    "        Console.WriteLine($\"Film {Title} rated by {rate}\");\n",
    "    }\n",
    "}\n",
    "\n",
    "public class Documentary : Movie\n",
    "{\n",
    "    public string Theme { get; set; }\n",
    "\n",
    "    public Documentary(string title, string director, int releaseYear, string theme)\n",
    "        : base(title, director, releaseYear)\n",
    "    {\n",
    "        Theme = theme;\n",
    "    }\n",
    "\n",
    "    public override void Watch()\n",
    "    {\n",
    "        Console.WriteLine($\"Watching documentary: {Title}. Theme: {Theme}\");\n",
    "    }\n",
    "\n",
    "    public override string Getinfo()\n",
    "    {\n",
    "       return base.Getinfo() + $\", Theme: {Theme}\";\n",
    "    }\n",
    "}\n",
    "\n",
    "public class FeatureFilm : Movie {\n",
    "\n",
    "    public string Genre {get; set;}\n",
    "\n",
    "    public FeatureFilm (string title, string director, int releaseYear, string genre)\n",
    "        :base(title, director, releaseYear)\n",
    "    {\n",
    "        Genre = genre;\n",
    "    }\n",
    "\n",
    "      public override void Rate(int rating)\n",
    "    {\n",
    "        if (Genre == \"Cyberpunk\" && rating > 8)\n",
    "        {\n",
    "            Console.WriteLine($\"Wow, you really liked this {Genre} film! You rated it {rating}/10.\");\n",
    "        }\n",
    "        else\n",
    "        {\n",
    "            Console.WriteLine($\"You rated the {Genre} film '{Title}' with {rating}/10.\");\n",
    "        }\n",
    "    }\n",
    "}\n",
    "\n",
    "public class AnimatedMovie : Movie\n",
    "{\n",
    "    public string AnimationStudio { get; set; }\n",
    "\n",
    "    public AnimatedMovie(string title, string director, int releaseYear, string animationStudio)\n",
    "        : base(title, director, releaseYear)\n",
    "    {\n",
    "        AnimationStudio = animationStudio;\n",
    "    }\n",
    "\n",
    "    // Переопределение метода GetInfo для добавления информации о студии анимации\n",
    "    public override string Getinfo()\n",
    "    {\n",
    "        return $\"Title: {Title}, Director: {Director}, Release Year: {ReleaseYear}, Animation Studio: {AnimationStudio}\";\n",
    "    }\n",
    "}\n",
    "\n",
    "Movie movie = new Movie(\"Inception\", \"Christopher Nolan\", 2010);\n",
    "Documentary doc = new Documentary(\"Oppenheimer\", \"Christopher Nolan\", 2023, \"Biography\");\n",
    "FeatureFilm actionMovie = new FeatureFilm(\"Bladerunner 2049\", \"Deny Vilnev\", 2017, \"Cyberpunk\");\n",
    "AnimatedMovie animatedMovie = new AnimatedMovie(\"Toy Story\", \"John Lasseter\", 1995, \"Pixar\");\n",
    "\n",
    "Console.WriteLine(movie.Getinfo());\n",
    "movie.Watch();\n",
    "movie.Rate(9);\n",
    "\n",
    "Console.WriteLine(\"\\n\" + doc.Getinfo());\n",
    "doc.Watch();\n",
    "doc.Rate(8);\n",
    "\n",
    "Console.WriteLine(\"\\n\" + actionMovie.Getinfo());\n",
    "actionMovie.Watch();\n",
    "actionMovie.Rate(9); \n",
    "\n",
    "Console.WriteLine(\"\\n\" + animatedMovie.Getinfo());\n",
    "animatedMovie.Watch();\n",
    "animatedMovie.Rate(10);\n"
   ]
  },
  {
   "cell_type": "code",
   "execution_count": 2,
   "metadata": {
    "dotnet_interactive": {
     "language": "csharp"
    },
    "polyglot_notebook": {
     "kernelName": "csharp"
    }
   },
   "outputs": [],
   "source": []
  }
 ],
 "metadata": {
  "kernelspec": {
   "display_name": ".NET (C#)",
   "language": "C#",
   "name": ".net-csharp"
  },
  "polyglot_notebook": {
   "kernelInfo": {
    "defaultKernelName": "csharp",
    "items": [
     {
      "aliases": [],
      "languageName": "csharp",
      "name": "csharp"
     }
    ]
   }
  }
 },
 "nbformat": 4,
 "nbformat_minor": 2
}
